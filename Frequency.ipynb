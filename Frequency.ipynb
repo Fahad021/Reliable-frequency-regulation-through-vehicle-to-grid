{
 "cells": [
  {
   "cell_type": "markdown",
   "metadata": {},
   "source": [
    "## Frequency Deviations 2015-2018: $\\delta$\n",
    "Raw data available from [RTE](http://clients.rte-france.com/lang/fr/clients_producteurs/vie/vie_frequence.jsp).  Missing data are marked by 'INVA' and replaced by 0. March 2016 only has frequency measurements for the first three days."
   ]
  },
  {
   "cell_type": "code",
   "execution_count": 78,
   "metadata": {},
   "outputs": [],
   "source": [
    "import pandas as pd\n",
    "import numpy as np\n",
    "from datetime import datetime"
   ]
  },
  {
   "cell_type": "code",
   "execution_count": 79,
   "metadata": {},
   "outputs": [],
   "source": [
    "df = pd.DataFrame()\n",
    "for y in ['2015','2016','2017','2018']:\n",
    "    for m in ['01','02','03','04','05','06','07','08','09','10','11','12']:\n",
    "        # declare name of text file for frequency data\n",
    "        fname = 'RTE_Frequence_'+y+'_'+m+'.txt'\n",
    "        # load data\n",
    "        df_new = pd.read_csv(fname, sep=';', skiprows=1, skipfooter=1, encoding=\"ISO-8859-1\", engine='python', decimal=',')\n",
    "        df_new.drop('Unnamed: 2',axis=1,inplace=True)\n",
    "        df_new.columns = ['Time','delta']\n",
    "        df_new['Time'] = df_new['Time'].apply(lambda x: datetime.strptime(x, '%d/%m/%Y %H:%M:%S'))\n",
    "        # Data Imputation - the missing data are marked by 'INVA', replace them by the nominal frequency (50Hz)\n",
    "        df_new['delta'].replace('INVA', np.NaN, inplace=True)\n",
    "        df_new.fillna(value=50, inplace=True)\n",
    "        # calculate frequency deviation\n",
    "        df_new['delta'] = df_new['delta'].apply(lambda x: (float(x)-50)/0.2)\n",
    "        df_new[df_new['delta'] > 1] = 1\n",
    "        df_new[df_new['delta'] < -1] = -1\n",
    "        df = df.append(df_new, ignore_index=True)"
   ]
  },
  {
   "cell_type": "code",
   "execution_count": 80,
   "metadata": {},
   "outputs": [],
   "source": [
    "# Use time as index\n",
    "df.set_index('Time', inplace=True)\n",
    "# Remove duplicate values from daylight saving time \n",
    "df = df[~df.index.duplicated(keep='first')]\n",
    "# Data Completion: complete missing data by the mean deviation (zero)\n",
    "df = df.reindex(pd.date_range('01-01-2015 00:00:00', '12-31-2018 23:59:50', freq='10s'), fill_value=0)"
   ]
  },
  {
   "cell_type": "code",
   "execution_count": 83,
   "metadata": {},
   "outputs": [],
   "source": [
    "# Store the dataset\n",
    "df.to_hdf('delta_10s.h5', key='df')"
   ]
  }
 ],
 "metadata": {
  "kernelspec": {
   "display_name": "Python 3",
   "language": "python",
   "name": "python3"
  },
  "language_info": {
   "codemirror_mode": {
    "name": "ipython",
    "version": 3
   },
   "file_extension": ".py",
   "mimetype": "text/x-python",
   "name": "python",
   "nbconvert_exporter": "python",
   "pygments_lexer": "ipython3",
   "version": "3.6.8"
  }
 },
 "nbformat": 4,
 "nbformat_minor": 2
}
